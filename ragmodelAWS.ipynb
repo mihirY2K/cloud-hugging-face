{
 "cells": [
  {
   "cell_type": "code",
   "execution_count": 1,
   "id": "2209e746-2446-4696-870d-c2811524b8cf",
   "metadata": {
    "execution": {
     "iopub.execute_input": "2025-09-19T03:46:32.845294Z",
     "iopub.status.busy": "2025-09-19T03:46:32.845038Z",
     "iopub.status.idle": "2025-09-19T03:46:39.114245Z",
     "shell.execute_reply": "2025-09-19T03:46:39.113549Z",
     "shell.execute_reply.started": "2025-09-19T03:46:32.845269Z"
    }
   },
   "outputs": [
    {
     "name": "stdout",
     "output_type": "stream",
     "text": [
      "\u001b[33m  DEPRECATION: Building 'sagemaker' using the legacy setup.py bdist_wheel mechanism, which will be removed in a future version. pip 25.3 will enforce this behaviour change. A possible replacement is to use the standardized build interface by setting the `--use-pep517` option, (possibly combined with `--no-build-isolation`), or adding a `pyproject.toml` file to the source tree of 'sagemaker'. Discussion can be found at https://github.com/pypa/pip/issues/6334\u001b[0m\u001b[33m\n",
      "\u001b[0m\u001b[31mERROR: pip's dependency resolver does not currently take into account all the packages that are installed. This behaviour is the source of the following dependency conflicts.\n",
      "jupyter-ai 2.31.6 requires faiss-cpu!=1.8.0.post0,<2.0.0,>=1.8.0, which is not installed.\n",
      "dask 2025.7.0 requires cloudpickle>=3.0.0, but you have cloudpickle 2.2.1 which is incompatible.\n",
      "distributed 2025.7.0 requires cloudpickle>=3.0.0, but you have cloudpickle 2.2.1 which is incompatible.\n",
      "sparkmagic 0.21.0 requires pandas<2.0.0,>=0.17.1, but you have pandas 2.3.1 which is incompatible.\n",
      "thinc 8.3.6 requires numpy<3.0.0,>=2.0.0, but you have numpy 1.26.4 which is incompatible.\u001b[0m\u001b[31m\n",
      "\u001b[0m"
     ]
    }
   ],
   "source": [
    "!pip install -qU \\\n",
    "    sagemaker==2.173.0 \\\n",
    "    pinecone-client==3.1.0 \\\n",
    "    ipywidgets==7.0.0"
   ]
  },
  {
   "cell_type": "code",
   "execution_count": 2,
   "id": "08b33751-f952-4126-92b3-ddaa5323de86",
   "metadata": {
    "execution": {
     "iopub.execute_input": "2025-09-19T03:46:50.309099Z",
     "iopub.status.busy": "2025-09-19T03:46:50.308830Z",
     "iopub.status.idle": "2025-09-19T03:46:51.713666Z",
     "shell.execute_reply": "2025-09-19T03:46:51.713015Z",
     "shell.execute_reply.started": "2025-09-19T03:46:50.309075Z"
    }
   },
   "outputs": [],
   "source": [
    "import sagemaker\n",
    "from sagemaker.huggingface import HuggingFaceModel\n",
    "\n",
    "role = sagemaker.get_execution_role()\n",
    "# Define Hugging Face Model configuration\n",
    "hub_config = {\n",
    "    'HF_MODEL_ID':'google/flan-t5-small',\n",
    "    'HF_TASK':'text2text-generation'\n",
    "}\n",
    "\n",
    "# Define the model\n",
    "huggingface_model = HuggingFaceModel(\n",
    "    transformers_version=\"4.28\",\n",
    "    pytorch_version=\"2.0\",\n",
    "    py_version=\"py310\",\n",
    "    env=hub_config,\n",
    "    role=role\n",
    ")"
   ]
  },
  {
   "cell_type": "code",
   "execution_count": 3,
   "id": "85ca2e16-e49f-4997-90be-1e36d05eeefe",
   "metadata": {
    "execution": {
     "iopub.execute_input": "2025-09-19T03:46:55.822099Z",
     "iopub.status.busy": "2025-09-19T03:46:55.821696Z",
     "iopub.status.idle": "2025-09-19T03:51:58.653164Z",
     "shell.execute_reply": "2025-09-19T03:51:58.652502Z",
     "shell.execute_reply.started": "2025-09-19T03:46:55.822074Z"
    }
   },
   "outputs": [
    {
     "name": "stdout",
     "output_type": "stream",
     "text": [
      "---------!"
     ]
    }
   ],
   "source": [
    "llm = huggingface_model.deploy(\n",
    "    initial_instance_count=1,\n",
    "    instance_type=\"ml.m5.xlarge\",\n",
    "    endpoint_name=\"flan-t5-small-v4\"\n",
    ")"
   ]
  },
  {
   "cell_type": "code",
   "execution_count": 4,
   "id": "a4c4d007-dd45-446f-bcfe-220db9cde19d",
   "metadata": {
    "execution": {
     "iopub.execute_input": "2025-09-19T03:52:10.473954Z",
     "iopub.status.busy": "2025-09-19T03:52:10.473688Z",
     "iopub.status.idle": "2025-09-19T03:52:10.976666Z",
     "shell.execute_reply": "2025-09-19T03:52:10.976055Z",
     "shell.execute_reply.started": "2025-09-19T03:52:10.473932Z"
    }
   },
   "outputs": [
    {
     "data": {
      "text/plain": [
       "[{'generated_text': 'SageMaker'}]"
      ]
     },
     "execution_count": 4,
     "metadata": {},
     "output_type": "execute_result"
    }
   ],
   "source": [
    "question = \"Which instances can I use with Managed Spot Training in SageMaker?\"\n",
    "\n",
    "out = llm.predict({\"inputs\": question})\n",
    "out"
   ]
  },
  {
   "cell_type": "code",
   "execution_count": 5,
   "id": "e0c410b7-2d39-4809-b368-b9f693784ec5",
   "metadata": {
    "execution": {
     "iopub.execute_input": "2025-09-19T03:52:12.107948Z",
     "iopub.status.busy": "2025-09-19T03:52:12.107675Z",
     "iopub.status.idle": "2025-09-19T03:52:12.111089Z",
     "shell.execute_reply": "2025-09-19T03:52:12.110355Z",
     "shell.execute_reply.started": "2025-09-19T03:52:12.107927Z"
    }
   },
   "outputs": [],
   "source": [
    "context = \"\"\"Managed Spot Training can be used with all instances\n",
    "supported in Amazon SageMaker. Managed Spot Training is supported\n",
    "in all AWS Regions where Amazon SageMaker is currently available.\"\"\""
   ]
  },
  {
   "cell_type": "code",
   "execution_count": 6,
   "id": "0d2d2d8c-de72-43b0-bddf-ee5f5e99dfe1",
   "metadata": {
    "execution": {
     "iopub.execute_input": "2025-09-19T03:52:13.423646Z",
     "iopub.status.busy": "2025-09-19T03:52:13.423388Z",
     "iopub.status.idle": "2025-09-19T03:52:13.660871Z",
     "shell.execute_reply": "2025-09-19T03:52:13.660246Z",
     "shell.execute_reply.started": "2025-09-19T03:52:13.423625Z"
    }
   },
   "outputs": [
    {
     "name": "stdout",
     "output_type": "stream",
     "text": [
      "[Input]: Which instances can I use with Managed Spot Training in SageMaker?\n",
      "[Output]: I don't know\n"
     ]
    }
   ],
   "source": [
    "prompt_template = \"\"\"Answer the following QUESTION based on the CONTEXT\n",
    "given. If you do not know the answer and the CONTEXT doesn't\n",
    "contain the answer truthfully say \"I don't know\".\n",
    "\n",
    "CONTEXT:\n",
    "{context}\n",
    "\n",
    "QUESTION:\n",
    "{question}\n",
    "\n",
    "ANSWER:\n",
    "\"\"\"\n",
    "\n",
    "text_input = prompt_template.replace(\"{context}\", context).replace(\"{question}\", question)\n",
    "\n",
    "out = llm.predict({\"inputs\": text_input})\n",
    "generated_text = out[0][\"generated_text\"]\n",
    "print(f\"[Input]: {question}\\n[Output]: {generated_text}\")"
   ]
  },
  {
   "cell_type": "code",
   "execution_count": 7,
   "id": "7832f389-6434-4756-a7a0-8afd009aeee2",
   "metadata": {
    "execution": {
     "iopub.execute_input": "2025-09-19T03:52:15.557652Z",
     "iopub.status.busy": "2025-09-19T03:52:15.557385Z",
     "iopub.status.idle": "2025-09-19T03:52:15.789475Z",
     "shell.execute_reply": "2025-09-19T03:52:15.788833Z",
     "shell.execute_reply.started": "2025-09-19T03:52:15.557630Z"
    }
   },
   "outputs": [
    {
     "name": "stdout",
     "output_type": "stream",
     "text": [
      "[Input]: What color is my desk?\n",
      "[Output]: I don't know\n"
     ]
    }
   ],
   "source": [
    "unanswerable_question = \"What color is my desk?\"\n",
    "\n",
    "text_input = prompt_template.replace(\"{context}\", context).replace(\"{question}\", unanswerable_question)\n",
    "\n",
    "out = llm.predict({\"inputs\": text_input})\n",
    "generated_text = out[0][\"generated_text\"]\n",
    "print(f\"[Input]: {unanswerable_question}\\n[Output]: {generated_text}\")"
   ]
  },
  {
   "cell_type": "code",
   "execution_count": 8,
   "id": "2c0780f1-7bc4-41c8-9ae7-84d81aed82b8",
   "metadata": {
    "execution": {
     "iopub.execute_input": "2025-09-19T03:52:19.422887Z",
     "iopub.status.busy": "2025-09-19T03:52:19.422633Z",
     "iopub.status.idle": "2025-09-19T03:52:19.558850Z",
     "shell.execute_reply": "2025-09-19T03:52:19.557899Z",
     "shell.execute_reply.started": "2025-09-19T03:52:19.422867Z"
    }
   },
   "outputs": [],
   "source": [
    "hub_config = {\n",
    "    'HF_MODEL_ID': 'sentence-transformers/all-MiniLM-L6-v2', # model_id from hf.co/models\n",
    "    'HF_TASK': 'feature-extraction'\n",
    "}\n",
    "\n",
    "huggingface_model = HuggingFaceModel(\n",
    "    env=hub_config,\n",
    "    role=role,\n",
    "    transformers_version=\"4.28\",  # or latest supported by SageMaker\n",
    "    pytorch_version=\"2.0\",\n",
    "    py_version=\"py310\"\n",
    ")"
   ]
  },
  {
   "cell_type": "code",
   "execution_count": 9,
   "id": "3f5a03b6-8003-4653-b5a3-4d8e2d5289bc",
   "metadata": {
    "execution": {
     "iopub.execute_input": "2025-09-19T03:54:42.915013Z",
     "iopub.status.busy": "2025-09-19T03:54:42.914609Z",
     "iopub.status.idle": "2025-09-19T04:02:15.290893Z",
     "shell.execute_reply": "2025-09-19T04:02:15.290262Z",
     "shell.execute_reply.started": "2025-09-19T03:54:42.914981Z"
    }
   },
   "outputs": [
    {
     "name": "stdout",
     "output_type": "stream",
     "text": [
      "--------------!"
     ]
    }
   ],
   "source": [
    "encoder = huggingface_model.deploy(\n",
    "    initial_instance_count=1,\n",
    "    instance_type=\"ml.t2.large\",\n",
    "    endpoint_name=\"minilm-v1a\"\n",
    ")"
   ]
  },
  {
   "cell_type": "code",
   "execution_count": 10,
   "id": "09f0e847-f6dd-4773-a8f1-8811cef0659f",
   "metadata": {
    "execution": {
     "iopub.execute_input": "2025-09-19T04:02:21.204625Z",
     "iopub.status.busy": "2025-09-19T04:02:21.204363Z",
     "iopub.status.idle": "2025-09-19T04:02:21.495848Z",
     "shell.execute_reply": "2025-09-19T04:02:21.495223Z",
     "shell.execute_reply.started": "2025-09-19T04:02:21.204604Z"
    }
   },
   "outputs": [],
   "source": [
    "out = encoder.predict({\"inputs\": [\"some text here\", \"some more text goes here too\"]})"
   ]
  },
  {
   "cell_type": "code",
   "execution_count": 15,
   "id": "af21f030-24f2-479c-bc60-570e91094f6f",
   "metadata": {
    "execution": {
     "iopub.execute_input": "2025-09-19T04:07:12.053927Z",
     "iopub.status.busy": "2025-09-19T04:07:12.053666Z",
     "iopub.status.idle": "2025-09-19T04:07:12.168200Z",
     "shell.execute_reply": "2025-09-19T04:07:12.167594Z",
     "shell.execute_reply.started": "2025-09-19T04:07:12.053906Z"
    }
   },
   "outputs": [
    {
     "name": "stdout",
     "output_type": "stream",
     "text": [
      "2\n",
      "1\n",
      "4\n",
      "(12, 384)\n"
     ]
    }
   ],
   "source": [
    "docs = [\"hello world\", \"some more text goes here too\"]\n",
    "\n",
    "out = encoder.predict({\"inputs\": docs})\n",
    "\n",
    "# 3. Inspect the output (optional debugging)\n",
    "print(len(out))        # number of sentences\n",
    "print(len(out[0]))     # number of tokens in sentence 1\n",
    "print(len(out[0][0]))  # should be 384 (embedding dim)\n",
    "\n",
    "# 4. Average token embeddings -> sentence embeddings\n",
    "import numpy as np\n",
    "\n",
    "sentence_embeddings = [np.mean(np.array(sent), axis=0) for sent in out]\n",
    "embeddings = np.vstack(sentence_embeddings)\n",
    "print(embeddings.shape)   # (num_sentences, 384)\n",
    "\n",
    "# 5. Wrap into a helper function\n",
    "from typing import List\n",
    "\n",
    "def embed_docs(docs: List[str]) -> List[List[float]]:\n",
    "    out = encoder.predict({\"inputs\": docs})\n",
    "    sentence_embeddings = [np.mean(np.array(sent), axis=0) for sent in out]\n",
    "    return np.vstack(sentence_embeddings).tolist()"
   ]
  },
  {
   "cell_type": "code",
   "execution_count": 16,
   "id": "5b7aa74d-9b04-48a8-861a-7cbf75f57698",
   "metadata": {
    "execution": {
     "iopub.execute_input": "2025-09-19T04:11:32.004869Z",
     "iopub.status.busy": "2025-09-19T04:11:32.004602Z",
     "iopub.status.idle": "2025-09-19T04:11:32.008135Z",
     "shell.execute_reply": "2025-09-19T04:11:32.007410Z",
     "shell.execute_reply.started": "2025-09-19T04:11:32.004842Z"
    }
   },
   "outputs": [],
   "source": [
    "s3_path = \"s3://jumpstart-cache-prod-us-east-2/training-datasets/Amazon_SageMaker_FAQs/Amazon_SageMaker_FAQs.csv\"\n"
   ]
  },
  {
   "cell_type": "code",
   "execution_count": 17,
   "id": "a2ab33e8-9ec1-4cfb-b7f4-a9319cd0a61f",
   "metadata": {
    "execution": {
     "iopub.execute_input": "2025-09-19T04:11:43.500211Z",
     "iopub.status.busy": "2025-09-19T04:11:43.499851Z",
     "iopub.status.idle": "2025-09-19T04:11:44.968481Z",
     "shell.execute_reply": "2025-09-19T04:11:44.967676Z",
     "shell.execute_reply.started": "2025-09-19T04:11:43.500177Z"
    }
   },
   "outputs": [
    {
     "name": "stdout",
     "output_type": "stream",
     "text": [
      "download: s3://jumpstart-cache-prod-us-east-2/training-datasets/Amazon_SageMaker_FAQs/Amazon_SageMaker_FAQs.csv to ./Amazon_SageMaker_FAQs.csv\n"
     ]
    }
   ],
   "source": [
    "!aws s3 cp $s3_path Amazon_SageMaker_FAQs.csv"
   ]
  },
  {
   "cell_type": "code",
   "execution_count": 18,
   "id": "569d0016-479a-4e4a-99f6-780a73e58e08",
   "metadata": {
    "execution": {
     "iopub.execute_input": "2025-09-19T04:12:02.550808Z",
     "iopub.status.busy": "2025-09-19T04:12:02.550539Z",
     "iopub.status.idle": "2025-09-19T04:12:02.567980Z",
     "shell.execute_reply": "2025-09-19T04:12:02.567401Z",
     "shell.execute_reply.started": "2025-09-19T04:12:02.550780Z"
    }
   },
   "outputs": [
    {
     "data": {
      "text/html": [
       "<div>\n",
       "<style scoped>\n",
       "    .dataframe tbody tr th:only-of-type {\n",
       "        vertical-align: middle;\n",
       "    }\n",
       "\n",
       "    .dataframe tbody tr th {\n",
       "        vertical-align: top;\n",
       "    }\n",
       "\n",
       "    .dataframe thead th {\n",
       "        text-align: right;\n",
       "    }\n",
       "</style>\n",
       "<table border=\"1\" class=\"dataframe\">\n",
       "  <thead>\n",
       "    <tr style=\"text-align: right;\">\n",
       "      <th></th>\n",
       "      <th>Question</th>\n",
       "      <th>Answer</th>\n",
       "    </tr>\n",
       "  </thead>\n",
       "  <tbody>\n",
       "    <tr>\n",
       "      <th>0</th>\n",
       "      <td>What is Amazon SageMaker?</td>\n",
       "      <td>Amazon SageMaker is a fully managed service to...</td>\n",
       "    </tr>\n",
       "    <tr>\n",
       "      <th>1</th>\n",
       "      <td>In which Regions is Amazon SageMaker available...</td>\n",
       "      <td>For a list of the supported Amazon SageMaker A...</td>\n",
       "    </tr>\n",
       "    <tr>\n",
       "      <th>2</th>\n",
       "      <td>What is the service availability of Amazon Sag...</td>\n",
       "      <td>Amazon SageMaker is designed for high availabi...</td>\n",
       "    </tr>\n",
       "    <tr>\n",
       "      <th>3</th>\n",
       "      <td>How does Amazon SageMaker secure my code?</td>\n",
       "      <td>Amazon SageMaker stores code in ML storage vol...</td>\n",
       "    </tr>\n",
       "    <tr>\n",
       "      <th>4</th>\n",
       "      <td>What security measures does Amazon SageMaker h...</td>\n",
       "      <td>Amazon SageMaker ensures that ML model artifac...</td>\n",
       "    </tr>\n",
       "  </tbody>\n",
       "</table>\n",
       "</div>"
      ],
      "text/plain": [
       "                                            Question  \\\n",
       "0                          What is Amazon SageMaker?   \n",
       "1  In which Regions is Amazon SageMaker available...   \n",
       "2  What is the service availability of Amazon Sag...   \n",
       "3          How does Amazon SageMaker secure my code?   \n",
       "4  What security measures does Amazon SageMaker h...   \n",
       "\n",
       "                                              Answer  \n",
       "0  Amazon SageMaker is a fully managed service to...  \n",
       "1  For a list of the supported Amazon SageMaker A...  \n",
       "2  Amazon SageMaker is designed for high availabi...  \n",
       "3  Amazon SageMaker stores code in ML storage vol...  \n",
       "4  Amazon SageMaker ensures that ML model artifac...  "
      ]
     },
     "execution_count": 18,
     "metadata": {},
     "output_type": "execute_result"
    }
   ],
   "source": [
    "import pandas as pd\n",
    "\n",
    "df_knowledge = pd.read_csv(\"Amazon_SageMaker_FAQs.csv\", header=None, names=[\"Question\", \"Answer\"])\n",
    "df_knowledge.head()"
   ]
  },
  {
   "cell_type": "code",
   "execution_count": 19,
   "id": "2a4b6a75-a69e-4af1-8252-44dd2946296e",
   "metadata": {
    "execution": {
     "iopub.execute_input": "2025-09-19T04:13:02.342571Z",
     "iopub.status.busy": "2025-09-19T04:13:02.342311Z",
     "iopub.status.idle": "2025-09-19T04:13:02.350418Z",
     "shell.execute_reply": "2025-09-19T04:13:02.349566Z",
     "shell.execute_reply.started": "2025-09-19T04:13:02.342551Z"
    }
   },
   "outputs": [
    {
     "data": {
      "text/html": [
       "<div>\n",
       "<style scoped>\n",
       "    .dataframe tbody tr th:only-of-type {\n",
       "        vertical-align: middle;\n",
       "    }\n",
       "\n",
       "    .dataframe tbody tr th {\n",
       "        vertical-align: top;\n",
       "    }\n",
       "\n",
       "    .dataframe thead th {\n",
       "        text-align: right;\n",
       "    }\n",
       "</style>\n",
       "<table border=\"1\" class=\"dataframe\">\n",
       "  <thead>\n",
       "    <tr style=\"text-align: right;\">\n",
       "      <th></th>\n",
       "      <th>Answer</th>\n",
       "    </tr>\n",
       "  </thead>\n",
       "  <tbody>\n",
       "    <tr>\n",
       "      <th>0</th>\n",
       "      <td>Amazon SageMaker is a fully managed service to...</td>\n",
       "    </tr>\n",
       "    <tr>\n",
       "      <th>1</th>\n",
       "      <td>For a list of the supported Amazon SageMaker A...</td>\n",
       "    </tr>\n",
       "    <tr>\n",
       "      <th>2</th>\n",
       "      <td>Amazon SageMaker is designed for high availabi...</td>\n",
       "    </tr>\n",
       "    <tr>\n",
       "      <th>3</th>\n",
       "      <td>Amazon SageMaker stores code in ML storage vol...</td>\n",
       "    </tr>\n",
       "    <tr>\n",
       "      <th>4</th>\n",
       "      <td>Amazon SageMaker ensures that ML model artifac...</td>\n",
       "    </tr>\n",
       "  </tbody>\n",
       "</table>\n",
       "</div>"
      ],
      "text/plain": [
       "                                              Answer\n",
       "0  Amazon SageMaker is a fully managed service to...\n",
       "1  For a list of the supported Amazon SageMaker A...\n",
       "2  Amazon SageMaker is designed for high availabi...\n",
       "3  Amazon SageMaker stores code in ML storage vol...\n",
       "4  Amazon SageMaker ensures that ML model artifac..."
      ]
     },
     "execution_count": 19,
     "metadata": {},
     "output_type": "execute_result"
    }
   ],
   "source": [
    "df_knowledge.drop([\"Question\"], axis=1, inplace=True)\n",
    "df_knowledge.head()"
   ]
  },
  {
   "cell_type": "code",
   "execution_count": null,
   "id": "ed385364-c3af-4825-b2cd-3657c4404ba4",
   "metadata": {},
   "outputs": [],
   "source": [
    "import os\n",
    "from pinecone import Pinecone\n",
    "\n",
    "# initialize connection to pinecone (get API key at app.pinecone.io)\n",
    "api_key = os.environ.get('PINECONE_API_KEY') or 'PINECONE_API_KEY'\n",
    "\n",
    "# configure client\n",
    "pc = Pinecone(api_key=api_key)"
   ]
  },
  {
   "cell_type": "code",
   "execution_count": 23,
   "id": "5096d5d9-a23d-49a0-b1b1-7fc00f64885a",
   "metadata": {
    "execution": {
     "iopub.execute_input": "2025-09-19T04:28:11.148302Z",
     "iopub.status.busy": "2025-09-19T04:28:11.148030Z",
     "iopub.status.idle": "2025-09-19T04:28:11.159335Z",
     "shell.execute_reply": "2025-09-19T04:28:11.158760Z",
     "shell.execute_reply.started": "2025-09-19T04:28:11.148276Z"
    }
   },
   "outputs": [
    {
     "name": "stdout",
     "output_type": "stream",
     "text": [
      "Pinecone API key loaded successfully\n"
     ]
    }
   ],
   "source": [
    "import os\n",
    "from dotenv import load_dotenv\n",
    "\n",
    "# Load environment variables from .env\n",
    "load_dotenv()\n",
    "\n",
    "# Retrieve your Pinecone API key\n",
    "api_key = os.getenv(\"PINECONE_API_KEY\")\n",
    "if not api_key:\n",
    "    raise ValueError(\"PINECONE_API_KEY not found. Check your .env file!\")\n",
    "\n",
    "print(\"Pinecone API key loaded successfully\")"
   ]
  },
  {
   "cell_type": "code",
   "execution_count": 24,
   "id": "e7b61ab0-148a-4a67-b04d-3993aadec097",
   "metadata": {
    "execution": {
     "iopub.execute_input": "2025-09-19T04:28:22.248773Z",
     "iopub.status.busy": "2025-09-19T04:28:22.248514Z",
     "iopub.status.idle": "2025-09-19T04:28:22.413828Z",
     "shell.execute_reply": "2025-09-19T04:28:22.413149Z",
     "shell.execute_reply.started": "2025-09-19T04:28:22.248752Z"
    }
   },
   "outputs": [
    {
     "name": "stdout",
     "output_type": "stream",
     "text": [
      "{'indexes': [{'dimension': 1024,\n",
      "              'host': 'ragindex-rap39mq.svc.aped-4627-b74a.pinecone.io',\n",
      "              'metric': 'cosine',\n",
      "              'name': 'ragindex',\n",
      "              'spec': {'serverless': {'cloud': 'aws', 'region': 'us-east-1'}},\n",
      "              'status': {'ready': True, 'state': 'Ready'}},\n",
      "             {'dimension': 384,\n",
      "              'host': 'rag-first-rap39mq.svc.aped-4627-b74a.pinecone.io',\n",
      "              'metric': 'cosine',\n",
      "              'name': 'rag-first',\n",
      "              'spec': {'serverless': {'cloud': 'aws', 'region': 'us-east-1'}},\n",
      "              'status': {'ready': True, 'state': 'Ready'}}]}\n"
     ]
    },
    {
     "name": "stderr",
     "output_type": "stream",
     "text": [
      "/opt/conda/lib/python3.12/site-packages/pinecone/data/index.py:1: TqdmWarning: IProgress not found. Please update jupyter and ipywidgets. See https://ipywidgets.readthedocs.io/en/stable/user_install.html\n",
      "  from tqdm.autonotebook import tqdm\n"
     ]
    }
   ],
   "source": [
    "from pinecone import Pinecone\n",
    "\n",
    "# Connect to Pinecone\n",
    "pc = Pinecone(api_key=api_key)\n",
    "\n",
    "# Test connection by listing indexes\n",
    "print(pc.list_indexes())"
   ]
  },
  {
   "cell_type": "code",
   "execution_count": 25,
   "id": "0167970a-02a7-4608-8a80-d7e03c4b31e2",
   "metadata": {
    "execution": {
     "iopub.execute_input": "2025-09-19T04:29:26.329148Z",
     "iopub.status.busy": "2025-09-19T04:29:26.328889Z",
     "iopub.status.idle": "2025-09-19T04:29:26.332877Z",
     "shell.execute_reply": "2025-09-19T04:29:26.332075Z",
     "shell.execute_reply.started": "2025-09-19T04:29:26.329127Z"
    }
   },
   "outputs": [],
   "source": [
    "from pinecone import ServerlessSpec\n",
    "\n",
    "cloud = os.environ.get('PINECONE_CLOUD') or 'aws'\n",
    "region = os.environ.get('PINECONE_REGION') or 'us-east-1'\n",
    "\n",
    "spec = ServerlessSpec(cloud=cloud, region=region)"
   ]
  },
  {
   "cell_type": "code",
   "execution_count": 26,
   "id": "452d419f-d2d3-418f-9e66-34ccb785a10c",
   "metadata": {
    "execution": {
     "iopub.execute_input": "2025-09-19T04:29:36.516054Z",
     "iopub.status.busy": "2025-09-19T04:29:36.515775Z",
     "iopub.status.idle": "2025-09-19T04:29:36.519538Z",
     "shell.execute_reply": "2025-09-19T04:29:36.518614Z",
     "shell.execute_reply.started": "2025-09-19T04:29:36.516033Z"
    }
   },
   "outputs": [],
   "source": [
    "index_name = 'retrieval-augmentation-aws'"
   ]
  },
  {
   "cell_type": "code",
   "execution_count": 27,
   "id": "51fdfde0-6adf-4b93-a6db-b97f621b563e",
   "metadata": {
    "execution": {
     "iopub.execute_input": "2025-09-19T04:30:29.780591Z",
     "iopub.status.busy": "2025-09-19T04:30:29.780331Z",
     "iopub.status.idle": "2025-09-19T04:30:39.110550Z",
     "shell.execute_reply": "2025-09-19T04:30:39.109875Z",
     "shell.execute_reply.started": "2025-09-19T04:30:29.780569Z"
    }
   },
   "outputs": [
    {
     "data": {
      "text/plain": [
       "{'dimension': 384,\n",
       " 'index_fullness': 0.0,\n",
       " 'namespaces': {},\n",
       " 'total_vector_count': 0}"
      ]
     },
     "execution_count": 27,
     "metadata": {},
     "output_type": "execute_result"
    }
   ],
   "source": [
    "import time\n",
    "\n",
    "# check if index already exists (it shouldn't if this is first time)\n",
    "if index_name not in pc.list_indexes().names():\n",
    "    # if does not exist, create index\n",
    "    pc.create_index(\n",
    "        index_name,\n",
    "        dimension=embeddings.shape[1],\n",
    "        metric='cosine',\n",
    "        spec=spec\n",
    "    )\n",
    "    # wait for index to be initialized\n",
    "    while not pc.describe_index(index_name).status['ready']:\n",
    "        time.sleep(1)\n",
    "\n",
    "# connect to index\n",
    "index = pc.Index(index_name)\n",
    "# view index stats\n",
    "index.describe_index_stats()"
   ]
  },
  {
   "cell_type": "code",
   "execution_count": 28,
   "id": "ae70625f-6d20-4336-9896-9957b7a28cb2",
   "metadata": {
    "execution": {
     "iopub.execute_input": "2025-09-19T04:30:47.353814Z",
     "iopub.status.busy": "2025-09-19T04:30:47.353556Z",
     "iopub.status.idle": "2025-09-19T04:31:10.872656Z",
     "shell.execute_reply": "2025-09-19T04:31:10.872062Z",
     "shell.execute_reply.started": "2025-09-19T04:30:47.353793Z"
    }
   },
   "outputs": [
    {
     "name": "stderr",
     "output_type": "stream",
     "text": [
      "100%|██████████| 77/77 [00:23<00:00,  3.28it/s]\n"
     ]
    }
   ],
   "source": [
    "from tqdm.auto import tqdm\n",
    "\n",
    "batch_size = 2  # can increase but needs larger instance size otherwise instance runs out of memory\n",
    "vector_limit = 1000\n",
    "\n",
    "answers = df_knowledge[:vector_limit]\n",
    "index = pc.Index(index_name)\n",
    "\n",
    "for i in tqdm(range(0, len(answers), batch_size)):\n",
    "    # find end of batch\n",
    "    i_end = min(i+batch_size, len(answers))\n",
    "    # create IDs batch\n",
    "    ids = [str(x) for x in range(i, i_end)]\n",
    "    # create metadata batch\n",
    "    metadatas = [{'text': text} for text in answers[\"Answer\"][i:i_end]]\n",
    "    # create embeddings\n",
    "    texts = answers[\"Answer\"][i:i_end].tolist()\n",
    "    embeddings = embed_docs(texts)\n",
    "    # create records list for upsert\n",
    "    records = zip(ids, embeddings, metadatas)\n",
    "    # upsert to Pinecone\n",
    "    index.upsert(vectors=records)"
   ]
  },
  {
   "cell_type": "code",
   "execution_count": 29,
   "id": "cfd89e88-5464-4830-82e8-13a0c2ea8245",
   "metadata": {
    "execution": {
     "iopub.execute_input": "2025-09-19T04:31:42.496695Z",
     "iopub.status.busy": "2025-09-19T04:31:42.496431Z",
     "iopub.status.idle": "2025-09-19T04:31:42.528060Z",
     "shell.execute_reply": "2025-09-19T04:31:42.527453Z",
     "shell.execute_reply.started": "2025-09-19T04:31:42.496672Z"
    }
   },
   "outputs": [
    {
     "data": {
      "text/plain": [
       "{'dimension': 384,\n",
       " 'index_fullness': 0.0,\n",
       " 'namespaces': {'': {'vector_count': 154}},\n",
       " 'total_vector_count': 154}"
      ]
     },
     "execution_count": 29,
     "metadata": {},
     "output_type": "execute_result"
    }
   ],
   "source": [
    "# check number of records in the index\n",
    "index.describe_index_stats()"
   ]
  },
  {
   "cell_type": "code",
   "execution_count": 30,
   "id": "2db1bc46-89f2-443a-bc52-eb315141c4cb",
   "metadata": {
    "execution": {
     "iopub.execute_input": "2025-09-19T04:32:23.765738Z",
     "iopub.status.busy": "2025-09-19T04:32:23.765482Z",
     "iopub.status.idle": "2025-09-19T04:32:23.770115Z",
     "shell.execute_reply": "2025-09-19T04:32:23.769502Z",
     "shell.execute_reply.started": "2025-09-19T04:32:23.765718Z"
    }
   },
   "outputs": [
    {
     "data": {
      "text/plain": [
       "'Which instances can I use with Managed Spot Training in SageMaker?'"
      ]
     },
     "execution_count": 30,
     "metadata": {},
     "output_type": "execute_result"
    }
   ],
   "source": [
    "question"
   ]
  },
  {
   "cell_type": "code",
   "execution_count": 31,
   "id": "70be05ea-7d8b-4b8b-9e98-f88f6bc97e8f",
   "metadata": {
    "execution": {
     "iopub.execute_input": "2025-09-19T04:32:33.628542Z",
     "iopub.status.busy": "2025-09-19T04:32:33.628186Z",
     "iopub.status.idle": "2025-09-19T04:32:33.738217Z",
     "shell.execute_reply": "2025-09-19T04:32:33.737632Z",
     "shell.execute_reply.started": "2025-09-19T04:32:33.628509Z"
    }
   },
   "outputs": [
    {
     "data": {
      "text/plain": [
       "{'matches': [{'id': '89',\n",
       "              'metadata': {'text': 'Once a Managed Spot Training job is '\n",
       "                                   'completed, you can see the savings in the '\n",
       "                                   'AWS Management Console and also calculate '\n",
       "                                   'the cost savings as the percentage '\n",
       "                                   'difference between the duration for which '\n",
       "                                   'the training job ran and the duration for '\n",
       "                                   'which you were billed. Regardless of how '\n",
       "                                   'many times your Managed Spot Training jobs '\n",
       "                                   'are interrupted, you are charged only once '\n",
       "                                   'for the duration for which the data was '\n",
       "                                   'downloaded.'},\n",
       "              'score': 0.601714075,\n",
       "              'values': []},\n",
       "             {'id': '17',\n",
       "              'metadata': {'text': 'Amazon SageMaker provides purpose-built ML '\n",
       "                                   'governance tools across the ML lifecycle. '\n",
       "                                   'With SageMaker Role Manager, '\n",
       "                                   'administrators can define minimum '\n",
       "                                   'permissions in minutes. SageMaker Model '\n",
       "                                   'Cards makes it easier to capture, '\n",
       "                                   'retrieve, and share essential model '\n",
       "                                   'information from conception to deployment, '\n",
       "                                   'and SageMaker Model Dashboard keeps you '\n",
       "                                   'informed on production model behavior, all '\n",
       "                                   'in one place. View more details.'},\n",
       "              'score': 0.594229221,\n",
       "              'values': []},\n",
       "             {'id': '90',\n",
       "              'metadata': {'text': 'Managed Spot Training can be used with all '\n",
       "                                   'instances supported in Amazon '\n",
       "                                   'SageMaker.\\r\\n'},\n",
       "              'score': 0.574165761,\n",
       "              'values': []},\n",
       "             {'id': '45',\n",
       "              'metadata': {'text': 'Once you have prepared your data, Amazon '\n",
       "                                   'SageMaker Data Wrangler provides different '\n",
       "                                   'options for promoting your SageMaker Data '\n",
       "                                   'Wrangler flow to production and integrates '\n",
       "                                   'seamlessly with MLOps and CI/CD '\n",
       "                                   'capabilities. You can configure and launch '\n",
       "                                   'SageMaker processing jobs directly from '\n",
       "                                   'the SageMaker Data Wrangler UI, including '\n",
       "                                   'scheduling your data processing job and '\n",
       "                                   'parametrizing your data sources to easily '\n",
       "                                   'transform new batches of data at scale. '\n",
       "                                   'Alternatively, SageMaker Data Wrangler '\n",
       "                                   'integrates seamlessly with SageMaker '\n",
       "                                   'processing and the SageMaker Spark '\n",
       "                                   'container, allowing you to easily use '\n",
       "                                   'SageMaker SDKs to integrate SageMaker Data '\n",
       "                                   'Wrangler into your production workflow.'},\n",
       "              'score': 0.547330141,\n",
       "              'values': []},\n",
       "             {'id': '49',\n",
       "              'metadata': {'text': 'Amazon SageMaker Feature Store\\xa0provides '\n",
       "                                   'a central repository for data features '\n",
       "                                   'with low latency (milliseconds) reads and '\n",
       "                                   'writes. Features can be stored, retrieved, '\n",
       "                                   'discovered, and shared through SageMaker '\n",
       "                                   'Feature Store for easy reuse across models '\n",
       "                                   'and teams with secure access and control. '\n",
       "                                   'SageMaker Feature Store supports both '\n",
       "                                   'online and offline features generated via '\n",
       "                                   'batch or streaming pipelines. It supports '\n",
       "                                   'backfilling the features and provides both '\n",
       "                                   'online and offline stores to maintain '\n",
       "                                   'parity between features used in model '\n",
       "                                   'training and inference.'},\n",
       "              'score': 0.554437757,\n",
       "              'values': []}],\n",
       " 'namespace': '',\n",
       " 'usage': {'read_units': 1}}"
      ]
     },
     "execution_count": 31,
     "metadata": {},
     "output_type": "execute_result"
    }
   ],
   "source": [
    "# extract embeddings for the questions\n",
    "query_vec = embed_docs(question)[0]\n",
    "\n",
    "# query pinecone\n",
    "res = index.query(vector=query_vec, top_k=5, include_metadata=True)\n",
    "\n",
    "# show the results\n",
    "res"
   ]
  },
  {
   "cell_type": "code",
   "execution_count": 32,
   "id": "27d730c2-e19b-4276-8f94-e3f137da206e",
   "metadata": {
    "execution": {
     "iopub.execute_input": "2025-09-19T04:32:46.494721Z",
     "iopub.status.busy": "2025-09-19T04:32:46.494452Z",
     "iopub.status.idle": "2025-09-19T04:32:46.498101Z",
     "shell.execute_reply": "2025-09-19T04:32:46.497166Z",
     "shell.execute_reply.started": "2025-09-19T04:32:46.494699Z"
    }
   },
   "outputs": [],
   "source": [
    "contexts = [match.metadata['text'] for match in res.matches]"
   ]
  },
  {
   "cell_type": "code",
   "execution_count": 33,
   "id": "a01ff6f3-3c5a-4377-b890-e1881a384b97",
   "metadata": {
    "execution": {
     "iopub.execute_input": "2025-09-19T04:32:58.548643Z",
     "iopub.status.busy": "2025-09-19T04:32:58.548379Z",
     "iopub.status.idle": "2025-09-19T04:32:58.552928Z",
     "shell.execute_reply": "2025-09-19T04:32:58.552102Z",
     "shell.execute_reply.started": "2025-09-19T04:32:58.548622Z"
    }
   },
   "outputs": [],
   "source": [
    "max_section_len = 1000\n",
    "separator = \"\\n\"\n",
    "\n",
    "def construct_context(contexts: List[str]) -> str:\n",
    "    chosen_sections = []\n",
    "    chosen_sections_len = 0\n",
    "\n",
    "    for text in contexts:\n",
    "        text = text.strip()\n",
    "        # Add contexts until we run out of space.\n",
    "        chosen_sections_len += len(text) + 2\n",
    "        if chosen_sections_len > max_section_len:\n",
    "            break\n",
    "        chosen_sections.append(text)\n",
    "    concatenated_doc = separator.join(chosen_sections)\n",
    "    print(\n",
    "        f\"With maximum sequence length {max_section_len}, selected top {len(chosen_sections)} document sections: \\n{concatenated_doc}\"\n",
    "    )\n",
    "    return concatenated_doc"
   ]
  },
  {
   "cell_type": "code",
   "execution_count": 34,
   "id": "1ac358df-6d9f-4ee2-95be-a643b42dd51b",
   "metadata": {
    "execution": {
     "iopub.execute_input": "2025-09-19T04:33:09.894982Z",
     "iopub.status.busy": "2025-09-19T04:33:09.894721Z",
     "iopub.status.idle": "2025-09-19T04:33:09.898591Z",
     "shell.execute_reply": "2025-09-19T04:33:09.897701Z",
     "shell.execute_reply.started": "2025-09-19T04:33:09.894962Z"
    }
   },
   "outputs": [
    {
     "name": "stdout",
     "output_type": "stream",
     "text": [
      "With maximum sequence length 1000, selected top 3 document sections: \n",
      "Once a Managed Spot Training job is completed, you can see the savings in the AWS Management Console and also calculate the cost savings as the percentage difference between the duration for which the training job ran and the duration for which you were billed. Regardless of how many times your Managed Spot Training jobs are interrupted, you are charged only once for the duration for which the data was downloaded.\n",
      "Amazon SageMaker provides purpose-built ML governance tools across the ML lifecycle. With SageMaker Role Manager, administrators can define minimum permissions in minutes. SageMaker Model Cards makes it easier to capture, retrieve, and share essential model information from conception to deployment, and SageMaker Model Dashboard keeps you informed on production model behavior, all in one place. View more details.\n",
      "Managed Spot Training can be used with all instances supported in Amazon SageMaker.\n"
     ]
    }
   ],
   "source": [
    "context_str = construct_context(contexts=contexts)"
   ]
  },
  {
   "cell_type": "code",
   "execution_count": 35,
   "id": "78543586-59f6-43e1-99d7-865e5f1e88e4",
   "metadata": {
    "execution": {
     "iopub.execute_input": "2025-09-19T04:33:38.482680Z",
     "iopub.status.busy": "2025-09-19T04:33:38.482423Z",
     "iopub.status.idle": "2025-09-19T04:33:38.957658Z",
     "shell.execute_reply": "2025-09-19T04:33:38.957036Z",
     "shell.execute_reply.started": "2025-09-19T04:33:38.482660Z"
    }
   },
   "outputs": [
    {
     "name": "stdout",
     "output_type": "stream",
     "text": [
      "[Input]: Which instances can I use with Managed Spot Training in SageMaker?\n",
      "[Output]: All instances supported in Amazon SageMaker.\n"
     ]
    }
   ],
   "source": [
    "text_input = prompt_template.replace(\"{context}\", context_str).replace(\"{question}\", question)\n",
    "\n",
    "out = llm.predict({\"inputs\": text_input})\n",
    "generated_text = out[0][\"generated_text\"]\n",
    "print(f\"[Input]: {question}\\n[Output]: {generated_text}\")"
   ]
  },
  {
   "cell_type": "code",
   "execution_count": 36,
   "id": "284ef126-164f-422a-93b8-65b6ea281f75",
   "metadata": {
    "execution": {
     "iopub.execute_input": "2025-09-19T04:33:49.495485Z",
     "iopub.status.busy": "2025-09-19T04:33:49.495228Z",
     "iopub.status.idle": "2025-09-19T04:33:49.499844Z",
     "shell.execute_reply": "2025-09-19T04:33:49.498919Z",
     "shell.execute_reply.started": "2025-09-19T04:33:49.495463Z"
    }
   },
   "outputs": [],
   "source": [
    "def rag_query(question: str) -> str:\n",
    "    # create query vec\n",
    "    query_vec = embed_docs(question)[0]\n",
    "    # query pinecone\n",
    "    res = index.query(vector=query_vec, top_k=5, include_metadata=True)\n",
    "    # get contexts\n",
    "    contexts = [match.metadata['text'] for match in res.matches]\n",
    "    # build the multiple contexts string\n",
    "    context_str = construct_context(contexts=contexts)\n",
    "    # create our retrieval augmented prompt\n",
    "    text_input = prompt_template.replace(\"{context}\", context_str).replace(\"{question}\", question)\n",
    "    # make prediction\n",
    "    out = llm.predict({\"inputs\": text_input})\n",
    "    return out[0][\"generated_text\"]"
   ]
  },
  {
   "cell_type": "code",
   "execution_count": 37,
   "id": "eb0f502b-c88c-4fbd-8dd0-68c60e26e051",
   "metadata": {
    "execution": {
     "iopub.execute_input": "2025-09-19T04:34:29.012013Z",
     "iopub.status.busy": "2025-09-19T04:34:29.011726Z",
     "iopub.status.idle": "2025-09-19T04:34:29.570223Z",
     "shell.execute_reply": "2025-09-19T04:34:29.569571Z",
     "shell.execute_reply.started": "2025-09-19T04:34:29.011988Z"
    }
   },
   "outputs": [
    {
     "name": "stdout",
     "output_type": "stream",
     "text": [
      "With maximum sequence length 1000, selected top 3 document sections: \n",
      "Once a Managed Spot Training job is completed, you can see the savings in the AWS Management Console and also calculate the cost savings as the percentage difference between the duration for which the training job ran and the duration for which you were billed. Regardless of how many times your Managed Spot Training jobs are interrupted, you are charged only once for the duration for which the data was downloaded.\n",
      "Amazon SageMaker provides purpose-built ML governance tools across the ML lifecycle. With SageMaker Role Manager, administrators can define minimum permissions in minutes. SageMaker Model Cards makes it easier to capture, retrieve, and share essential model information from conception to deployment, and SageMaker Model Dashboard keeps you informed on production model behavior, all in one place. View more details.\n",
      "Managed Spot Training can be used with all instances supported in Amazon SageMaker.\n"
     ]
    },
    {
     "data": {
      "text/plain": [
       "'All instances supported in Amazon SageMaker.'"
      ]
     },
     "execution_count": 37,
     "metadata": {},
     "output_type": "execute_result"
    }
   ],
   "source": [
    "rag_query(\"Which instances can I use with Managed Spot Training in SageMaker?\")"
   ]
  },
  {
   "cell_type": "code",
   "execution_count": 38,
   "id": "64f3caa2-a967-4354-9989-c20e988c1e2a",
   "metadata": {
    "execution": {
     "iopub.execute_input": "2025-09-19T04:34:39.209961Z",
     "iopub.status.busy": "2025-09-19T04:34:39.209699Z",
     "iopub.status.idle": "2025-09-19T04:34:39.515949Z",
     "shell.execute_reply": "2025-09-19T04:34:39.515384Z",
     "shell.execute_reply.started": "2025-09-19T04:34:39.209941Z"
    }
   },
   "outputs": [
    {
     "name": "stdout",
     "output_type": "stream",
     "text": [
      "With maximum sequence length 1000, selected top 1 document sections: \n",
      "Amazon SageMaker provides purpose-built ML governance tools across the ML lifecycle. With SageMaker Role Manager, administrators can define minimum permissions in minutes. SageMaker Model Cards makes it easier to capture, retrieve, and share essential model information from conception to deployment, and SageMaker Model Dashboard keeps you informed on production model behavior, all in one place. View more details.\n"
     ]
    },
    {
     "data": {
      "text/plain": [
       "\"I don't know\""
      ]
     },
     "execution_count": 38,
     "metadata": {},
     "output_type": "execute_result"
    }
   ],
   "source": [
    "rag_query(\"How do I create a Hugging Face instance on Sagemaker?\")"
   ]
  },
  {
   "cell_type": "code",
   "execution_count": null,
   "id": "aa518501-9ad0-488a-a26e-5e36bc3923f6",
   "metadata": {},
   "outputs": [],
   "source": []
  }
 ],
 "metadata": {
  "kernelspec": {
   "display_name": "Python 3 (ipykernel)",
   "language": "python",
   "name": "python3"
  },
  "language_info": {
   "codemirror_mode": {
    "name": "ipython",
    "version": 3
   },
   "file_extension": ".py",
   "mimetype": "text/x-python",
   "name": "python",
   "nbconvert_exporter": "python",
   "pygments_lexer": "ipython3",
   "version": "3.12.9"
  }
 },
 "nbformat": 4,
 "nbformat_minor": 5
}
